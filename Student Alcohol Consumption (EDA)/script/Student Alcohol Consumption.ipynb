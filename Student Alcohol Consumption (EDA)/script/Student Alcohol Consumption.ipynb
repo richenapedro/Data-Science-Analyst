{
 "cells": [
  {
   "cell_type": "markdown",
   "metadata": {},
   "source": [
    "# Student Alcohol Consumption Analysiss\n"
   ]
  },
  {
   "cell_type": "markdown",
   "metadata": {},
   "source": [
    "## Introduction\n",
    "This Jupyter Notebook aims to analyze the factors influencing alcohol consumption among secondary school students. By exploring the dataset, we will gain insights into how various social, educational, and personal factors affect students' alcohol consumption patterns and academic performance."
   ]
  },
  {
   "cell_type": "markdown",
   "metadata": {},
   "source": [
    "## Table of Contents\n",
    "1. [Package Installation](#package-installation)\n",
    "2. [Library Imports](#library-imports)\n",
    "3. [Data Loading](#data-loading)\n",
    "4. [Initial Data Exploration](#initial-data-exploration)\n",
    "5. [Data Visualization](#data-visualization)\n",
    "6. [Correlation Analysis](#correlation-analysis)\n",
    "7. [Data Preparation](#data-preparation)\n",
    "8. [Modeling](#modeling)\n",
    "9. [Model Evaluation](#model-evaluation)\n",
    "10. [Conclusion and Next Steps](#conclusion-and-next-steps)"
   ]
  },
  {
   "cell_type": "markdown",
   "metadata": {},
   "source": [
    "## Package Installation <a name=\"package-installation\"></a>\n",
    "In this cell, we will install the necessary Python packages required for our data analysis project. This step ensures that all the libraries needed for data manipulation, visualization, and machine learning are available in our environment. \n",
    "\n",
    "We will use the `pip` command to install the following libraries:\n",
    "\n",
    "- **NumPy**: A library for numerical computations and handling arrays.\n",
    "- **Pandas**: A powerful data manipulation and analysis library, particularly useful for working with structured data.\n",
    "- **Matplotlib**: A plotting library for creating static, animated, and interactive visualizations in Python.\n",
    "- **Seaborn**: A statistical data visualization library based on Matplotlib that provides a high-level interface for drawing attractive graphics.\n",
    "- **Scikit-learn**: A machine learning library that provides simple and efficient tools for data mining and data analysis."
   ]
  },
  {
   "cell_type": "code",
   "execution_count": null,
   "metadata": {},
   "outputs": [],
   "source": [
    "# List of required libraries\n",
    "required_libraries = [\n",
    "    'numpy',\n",
    "    'pandas',\n",
    "    'matplotlib',\n",
    "    'seaborn',\n",
    "    'scikit-learn'\n",
    "]\n",
    "\n",
    "def install(package):\n",
    "    \"\"\"Install the package using pip in a Jupyter Notebook.\"\"\"\n",
    "    print(f\"Installing {package}...\")\n",
    "    # Use the Jupyter magic command for installation\n",
    "    get_ipython().system(f'pip install {package}')\n",
    "\n",
    "def check_libraries(libraries):\n",
    "    \"\"\"Check if the libraries are installed and install them if necessary.\"\"\"\n",
    "    missing_libraries = []\n",
    "\n",
    "    for library in libraries:\n",
    "        try:\n",
    "            __import__(library)\n",
    "        except ImportError:\n",
    "            missing_libraries.append(library)\n",
    "        except Exception as e:\n",
    "            # Captures other errors that may occur during import\n",
    "            print(f\"Error importing {library}: {e}\")\n",
    "            missing_libraries.append(library)\n",
    "\n",
    "    if missing_libraries:\n",
    "        print(f\"The following libraries are missing: {', '.join(missing_libraries)}\")\n",
    "        print(\"Starting installation...\")\n",
    "\n",
    "        installation_success = True  # Flag to track installation success\n",
    "\n",
    "        for library in missing_libraries:\n",
    "            try:\n",
    "                install(library)\n",
    "                print(f\"{library} installed successfully.\")\n",
    "            except Exception as e:\n",
    "                print(f\"Failed to install {library}: {e}\")\n",
    "                installation_success = False  # Mark as failed if there was an error\n",
    "\n",
    "        # Check again if the libraries were installed\n",
    "        for library in missing_libraries:\n",
    "            try:\n",
    "                __import__(library)\n",
    "            except ImportError:\n",
    "                print(f\"Error: {library} was not installed correctly.\")\n",
    "                installation_success = False  # Mark as failed if still missing\n",
    "\n",
    "        # Final message based on installation success\n",
    "        if installation_success:\n",
    "            print(\"All libraries were installed successfully.\")\n",
    "        else:\n",
    "            print(\"Some libraries were not installed correctly.\")\n",
    "    else:\n",
    "        print(\"All libraries are already installed.\")\n",
    "\n",
    "if __name__ == \"__main__\":\n",
    "    check_libraries(required_libraries)"
   ]
  },
  {
   "cell_type": "markdown",
   "metadata": {},
   "source": [
    "## Library Imports <a name=\"library-imports\"></a>\n",
    "In this cell, we will import all the necessary libraries that we will use throughout the analysis. This includes libraries for data manipulation, visualization, and machine learning."
   ]
  },
  {
   "cell_type": "code",
   "execution_count": null,
   "metadata": {},
   "outputs": [],
   "source": [
    "import numpy as np\n",
    "import pandas as pd\n",
    "import matplotlib.pyplot as plt\n",
    "import seaborn as sns\n",
    "from sklearn.model_selection import train_test_split\n",
    "from sklearn.linear_model import LinearRegression"
   ]
  },
  {
   "cell_type": "markdown",
   "metadata": {},
   "source": [
    "## Data Loading <a name=\"data-loading\"></a>\n",
    "Here, we will load the dataset containing information about students' alcohol consumption and related factors. We will examine the structure of the data and check for any initial issues such as missing values."
   ]
  },
  {
   "cell_type": "code",
   "execution_count": null,
   "metadata": {},
   "outputs": [],
   "source": [
    "# Paths to the CSV files\n",
    "path_data_math = '../data/student-mat.csv'\n",
    "path_data_port = '../data/student-por.csv'\n",
    "\n",
    "# Reading the CSV files\n",
    "data_math = pd.read_csv(path_data_math)\n",
    "data_port = pd.read_csv(path_data_port)"
   ]
  },
  {
   "cell_type": "code",
   "execution_count": null,
   "metadata": {},
   "outputs": [],
   "source": [
    "# Display the first few rows of each dataset to verify the reading\n",
    "print(\"Mathematics Data:\")\n",
    "print(data_math.head())\n",
    "print(\"\\nPortuguese Data:\")\n",
    "print(data_port.head())"
   ]
  },
  {
   "cell_type": "code",
   "execution_count": null,
   "metadata": {},
   "outputs": [],
   "source": [
    "# Concatenating the two DataFrames\n",
    "combined_data = pd.merge(data_math, data_port, on=[\"school\", \"sex\", \"age\", \"address\", \"famsize\", \n",
    "                             \"Pstatus\", \"Medu\", \"Fedu\", \"Mjob\", \"Fjob\", \n",
    "                             \"reason\", \"nursery\", \"internet\"],\n",
    "                             suffixes=('_math', '_port'))\n",
    "\n",
    "# Using shape to check the dimensions of the combined DataFrame\n",
    "print(\"\\nShape of Combined Data:\", combined_data.shape)"
   ]
  },
  {
   "cell_type": "markdown",
   "metadata": {},
   "source": [
    "## Initial Data Exploration <a name=\"initial-data-exploration\"></a>\n",
    "In this section, we will perform an exploratory data analysis (EDA) to understand the dataset better. We will look at the data types, summary statistics, and any missing values, which will help us determine the next steps for cleaning and preparing the data."
   ]
  },
  {
   "cell_type": "code",
   "execution_count": null,
   "metadata": {},
   "outputs": [],
   "source": [
    "# 1. Check for missing values\n",
    "missing_values = combined_data.isnull().sum()\n",
    "print(\"Missing Values in Each Column:\\n\", missing_values)"
   ]
  },
  {
   "cell_type": "code",
   "execution_count": null,
   "metadata": {},
   "outputs": [],
   "source": [
    "# 2. Check data types\n",
    "data_types = combined_data.dtypes\n",
    "print(\"\\nData Types of Each Column:\\n\", data_types)"
   ]
  },
  {
   "cell_type": "markdown",
   "metadata": {},
   "source": [
    "The dataset contains **33 features**. Most of them are categorical variables. Some variables that appear to be numeric are actually categorical. \n",
    "\n",
    "For example, the variable **Medu** represents the **mother's education** and has the following numeric values:\n",
    "- `0`: No education\n",
    "- `1`: Primary education (up to 4th grade)\n",
    "- `2`: 5th to 9th grade\n",
    "- `3`: Secondary education\n",
    "- `4`: Higher education\n",
    "\n",
    "Additionally, there are only **5 real numeric features**:\n",
    "- **Age**\n",
    "- **Absences**\n",
    "- **Grades**: G1, G2, G3\n"
   ]
  },
  {
   "cell_type": "code",
   "execution_count": null,
   "metadata": {},
   "outputs": [],
   "source": [
    "# 3. Summary statistics for numerical columns\n",
    "summary_statistics = combined_data.describe()\n",
    "print(\"\\nSummary Statistics:\\n\", summary_statistics)"
   ]
  },
  {
   "cell_type": "code",
   "execution_count": null,
   "metadata": {},
   "outputs": [],
   "source": [
    "# 4. Check unique values in categorical columns\n",
    "for column in combined_data.select_dtypes(include=['category']).columns:\n",
    "    print(f\"\\nUnique Values in '{column}':\\n\", combined_data[column].value_counts())"
   ]
  },
  {
   "cell_type": "markdown",
   "metadata": {},
   "source": [
    "I have checked for missing values and values outside the expected ranges, and there are none present in the dataset."
   ]
  },
  {
   "cell_type": "code",
   "execution_count": null,
   "metadata": {},
   "outputs": [],
   "source": [
    "# 5. Visualize distributions for numerical columns using histograms\n",
    "\n",
    "# Filter by sex\n",
    "men = combined_data[combined_data['sex'] == 'M']\n",
    "women = combined_data[combined_data['sex'] == 'F']\n",
    "\n",
    "fig, ax = plt.subplots(1, 2, figsize=(12, 5))\n",
    "\n",
    "# Histogram for Men\n",
    "ax[0].hist(men['age'], bins=30, color='blue', alpha=0.7)\n",
    "ax[0].set_title('Age Distribution for Men')\n",
    "ax[0].set_xlabel('Age')\n",
    "ax[0].set_ylabel('Frequency')\n",
    "\n",
    "# Histograma for Women\n",
    "ax[1].hist(women['age'], bins=30, color='pink', alpha=0.7)\n",
    "ax[1].set_title('Age Distribution for Women')\n",
    "ax[1].set_xlabel('Age')\n",
    "ax[1].set_ylabel('Frequency')\n",
    "\n",
    "plt.tight_layout()\n",
    "plt.show()"
   ]
  },
  {
   "cell_type": "markdown",
   "metadata": {},
   "source": [
    "In the graph, we can observe a similar number of males and females; however, the majority of individuals are concentrated within the age range of 15 to 18 years. This suggests that this age group represents a significant portion of the dataset, indicating a possible focus on high school students or young adults in this educational context."
   ]
  },
  {
   "cell_type": "code",
   "execution_count": null,
   "metadata": {},
   "outputs": [],
   "source": [
    "# 6. Visualize distributions for numerical columns using histograms\n",
    "sns.histplot(combined_data.sex)\n",
    "plt.title('Distribution of Sex')\n",
    "plt.xlabel('Sex')\n",
    "plt.ylabel('Count')\n",
    "plt.xticks([0, 1], ['Female', 'Male'])  # Adjust labels as necessary\n",
    "plt.tight_layout()\n",
    "plt.show()\n",
    "\n",
    "# Count the total number of women and men\n",
    "total_women = (combined_data['sex'] == 'F').sum()\n",
    "total_men = (combined_data['sex'] == 'M').sum()\n",
    "\n",
    "# Print the totals\n",
    "print(f'Total of Women: {total_women}')\n",
    "print(f'Total of Men: {total_men}')"
   ]
  },
  {
   "cell_type": "markdown",
   "metadata": {},
   "source": [
    "## Data Visualization <a name=\"data-visualization\"></a>\n",
    "Data visualization is essential for understanding trends and patterns within our dataset. In this section, we will create various plots to visualize the relationships between different variables, such as alcohol consumption and academic performance. Through these visualizations, we aim to gain insights that can inform our analysis and decision-making processes.\n",
    "\n",
    "To begin our analysis, we will evaluate the students' grades and explore the correlations between them. By examining the relationships among grades G1, G2, and G3, we can better understand how performance in earlier assessments may impact final outcomes. This analysis will provide a foundation for further exploration of the factors influencing academic success."
   ]
  },
  {
   "cell_type": "code",
   "execution_count": null,
   "metadata": {},
   "outputs": [],
   "source": [
    "plt.figure(figsize=(10, 6))\n",
    "sns.scatterplot(data=combined_data, x='G1_math', y='G2_math', color='blue', alpha=0.6)\n",
    "plt.title('Relationship Between G1 and G2 (Math)')\n",
    "plt.xlabel('Grade G1')\n",
    "plt.ylabel('Grade G2')\n",
    "plt.grid()\n",
    "plt.show()\n",
    "\n",
    "plt.figure(figsize=(10, 6))\n",
    "sns.scatterplot(data=combined_data, x='G2_math', y='G3_math', color='orange', alpha=0.6)\n",
    "plt.title('Relationship Between G2 and G3 (Math)')\n",
    "plt.xlabel('Grade G2')\n",
    "plt.ylabel('Final Grade G3')\n",
    "plt.grid()\n",
    "plt.show()\n"
   ]
  },
  {
   "cell_type": "code",
   "execution_count": null,
   "metadata": {},
   "outputs": [],
   "source": [
    "\n",
    "plt.figure(figsize=(10, 6))\n",
    "sns.scatterplot(data=combined_data, x='G1_port', y='G2_port', color='blue', alpha=0.6)\n",
    "plt.title('Relationship Between G1 and G2 (Port)')\n",
    "plt.xlabel('Grade G1')\n",
    "plt.ylabel('Grade G2')\n",
    "plt.grid()\n",
    "plt.show()\n",
    "\n",
    "plt.figure(figsize=(10, 6))\n",
    "sns.scatterplot(data=combined_data, x='G2_port', y='G3_port', color='orange', alpha=0.6)\n",
    "plt.title('Relationship Between G2 and G3 (Port)')\n",
    "plt.xlabel('Grade G2')\n",
    "plt.ylabel('Final Grade G3')\n",
    "plt.grid()\n",
    "plt.show()"
   ]
  },
  {
   "cell_type": "markdown",
   "metadata": {},
   "source": [
    "According to the scatter plots, we can observe a strong positive correlation between the grades G1, G2, and G3. Another important factor to note is that there were students who achieved a grade in G1, but there is a noticeable increase in the number of students receiving a grade of 0 in G2 and G3. This could indicate that these students either did not take the exam or may have dropped out of the course. Next, we will investigate the distribution of these grades in more detail."
   ]
  },
  {
   "cell_type": "code",
   "execution_count": null,
   "metadata": {},
   "outputs": [],
   "source": [
    "#  Students that probably quitted the school after 1st note (Math)\n",
    "dropped_out_students_math = combined_data[\n",
    "    (combined_data['G1_math'] != 0) & \n",
    "    (combined_data['G2_math'] == 0) & \n",
    "    (combined_data['G3_math'] == 0)\n",
    "]\n",
    "\n",
    "dropped_out_counts = dropped_out_students_math['school'].value_counts()\n",
    "\n",
    "print(dropped_out_counts)"
   ]
  },
  {
   "cell_type": "code",
   "execution_count": null,
   "metadata": {},
   "outputs": [],
   "source": [
    "# Defining the minimum passing average\n",
    "min_passing_average = 10\n",
    "\n",
    "# Filtering students who likely dropped out after the 2nd grade in Math\n",
    "dropped_out_students_math = combined_data[\n",
    "    (combined_data['G1_math'] != 0) & \n",
    "    (combined_data['G2_math'] != 0) & \n",
    "    (combined_data['G3_math'] == 0) &\n",
    "    ((combined_data['G1_math'] + combined_data['G2_math']) / 2 < min_passing_average)  # Average of G1 and G2 less than 10\n",
    "]\n",
    "\n",
    "# Counting the number of students who dropped out by type of school\n",
    "dropped_out_counts = dropped_out_students_math['school'].value_counts()\n",
    "\n",
    "print(dropped_out_counts)"
   ]
  },
  {
   "cell_type": "code",
   "execution_count": null,
   "metadata": {},
   "outputs": [],
   "source": [
    "#  Students that probably quitted the school after 1st note (Port)\n",
    "dropped_out_students_port = combined_data[\n",
    "    (combined_data['G1_port'] != 0) & \n",
    "    (combined_data['G2_port'] == 0) & \n",
    "    (combined_data['G3_port'] == 0)\n",
    "]\n",
    "\n",
    "dropped_out_counts = dropped_out_students_port['school'].value_counts()\n",
    "\n",
    "print(dropped_out_counts)"
   ]
  },
  {
   "cell_type": "code",
   "execution_count": null,
   "metadata": {},
   "outputs": [],
   "source": [
    "# Defining the minimum passing average\n",
    "min_passing_average = 10\n",
    "\n",
    "# Filtering students who likely dropped out after the 2nd grade in Portuguese\n",
    "dropped_out_students_port = combined_data[\n",
    "    (combined_data['G1_port'] != 0) & \n",
    "    (combined_data['G2_port'] != 0) & \n",
    "    (combined_data['G3_port'] == 0) &\n",
    "    ((combined_data['G1_port'] + combined_data['G2_port']) / 2 < min_passing_average)  # Average of G1 and G2 less than 10\n",
    "]\n",
    "\n",
    "# Counting the number of students who dropped out by type of school\n",
    "dropped_out_counts = dropped_out_students_port['school'].value_counts()\n",
    "\n",
    "# Printing the result\n",
    "print(dropped_out_counts)"
   ]
  },
  {
   "cell_type": "markdown",
   "metadata": {},
   "source": [
    "According to the analyses conducted, we observed a significant number of students who dropped out after receiving their first grade in Mathematics, totaling 13 students, all of whom attended Gabriel Pereira School. This number increased to 19 after the second grade in the subject.\n",
    "\n",
    "In relation to Portuguese, both schools exhibited similar dropout rates, with 5 students from Gabriel Pereira School and 4 students from Mousinho da Silveira School withdrawing from the course.\n",
    "\n",
    "For this analysis, we excluded students who had already passed to the next academic year in the second semester and did not participate in the evaluation in the third semester. We utilized the data provided by the website: https://gradecalculator.io/portugal/."
   ]
  },
  {
   "cell_type": "markdown",
   "metadata": {},
   "source": [
    "In the next phase of our analysis, we will evaluate the relationship between alcohol consumption and the academic performance of the students. By examining the variables related to weekday (Dalc) and weekend (Walc) alcohol consumption, we aim to uncover any potential correlations with the students' grades (G1, G2, and G3).\n",
    "\n",
    "Understanding how alcohol consumption impacts academic performance is crucial for identifying factors that may contribute to student success or challenges. We will conduct statistical analyses, including correlation assessments and visualizations, to determine whether higher levels of alcohol consumption are associated with lower academic performance.\n",
    "\n",
    "This analysis will provide valuable insights that can inform strategies aimed at promoting healthier behaviors among students and enhancing their academic outcomes."
   ]
  },
  {
   "cell_type": "code",
   "execution_count": null,
   "metadata": {},
   "outputs": [],
   "source": [
    "# Setting the seaborn style\n",
    "sns.set(style=\"whitegrid\")\n",
    "\n",
    "# Creating the figure and axes\n",
    "fig, axes = plt.subplots(1, 2, figsize=(12, 6))\n",
    "\n",
    "# Creating the histogram for Walc\n",
    "sns.histplot(data=data_math, x='Walc', hue='sex', multiple='stack', bins=5, kde=False, ax=axes[0])\n",
    "axes[0].set_title('Distribution of Weekend Alcohol Consumption (Walc) by Gender')\n",
    "axes[0].set_xlabel('Weekend Alcohol Consumption (Walc)')\n",
    "axes[0].set_ylabel('Count of Students')\n",
    "axes[0].set_xticks([1, 2, 3, 4, 5])\n",
    "axes[0].set_xticklabels(['1', '2', '3', '4', '5'])  # Adjusting the X-axis labels\n",
    "axes[0].legend(title='Gender', labels=['Female', 'Male'], loc='upper right')\n",
    "\n",
    "# Creating the histogram for Dalc\n",
    "sns.histplot(data=data_math, x='Dalc', hue='sex', multiple='stack', bins=5, kde=False, ax=axes[1])\n",
    "axes[1].set_title('Distribution of Weekday Alcohol Consumption (Dalc) by Gender')\n",
    "axes[1].set_xlabel('Weekday Alcohol Consumption (Dalc)')\n",
    "axes[1].set_ylabel('Count of Students')\n",
    "axes[1].set_xticks([1, 2, 3, 4, 5])\n",
    "axes[1].set_xticklabels(['1', '2', '3', '4', '5'])  # Adjusting the X-axis labels\n",
    "axes[1].legend(title='Gender', labels=['Female', 'Male'], loc='upper right')\n",
    "\n",
    "# Adjusting the layout\n",
    "plt.tight_layout()\n",
    "\n",
    "# Displaying the graphs\n",
    "plt.show()"
   ]
  },
  {
   "cell_type": "markdown",
   "metadata": {},
   "source": [
    "After this analysis, we can observe that alcohol consumption is significantly higher on weekends. It is also noteworthy that the level of alcohol consumption during the week is concentrated in the ranges of 1 and 2, which indicates low or negligible alcohol consumption. Since the index does not present a value for individuals who do not consume alcohol, we can presume that a considerable portion of the individuals marked with a consumption level of 1 are likely non-drinkers."
   ]
  },
  {
   "cell_type": "markdown",
   "metadata": {},
   "source": [
    "This insight highlights the difference in drinking behavior between weekdays and weekends, suggesting that students may engage in more social activities or leisure time during the weekends, leading to increased alcohol consumption. Conversely, the low consumption levels during the week could reflect a focus on academic responsibilities and a more restrained lifestyle."
   ]
  },
  {
   "cell_type": "code",
   "execution_count": null,
   "metadata": {},
   "outputs": [],
   "source": [
    "# Assuming you have already loaded the DataFrame 'data_math'\n",
    "\n",
    "# Create the figure for the bar chart and histogram\n",
    "plt.figure(figsize=(12, 5))  # Adjust the size of the figure\n",
    "\n",
    "# Bar chart for average alcohol consumption by age\n",
    "plt.subplot(1, 2, 1)  # 1 row, 2 columns, 1st subplot\n",
    "data_math.groupby('age')[['Dalc', 'Walc']].mean().plot(kind='bar', ax=plt.gca())\n",
    "plt.ylabel('Alcohol Consumption')\n",
    "plt.xticks(rotation=0)\n",
    "plt.title('Mean Alcohol Consumption by Age')\n",
    "\n",
    "# Histogram of the distribution of students by age\n",
    "plt.subplot(1, 2, 2)  # 1 row, 2 columns, 2nd subplot\n",
    "data_math['age'].hist(bins=range(15, 23), edgecolor='black', alpha=0.7)\n",
    "plt.xlabel('Age')\n",
    "plt.ylabel('Number of Students')\n",
    "plt.title('Distribution of Students by Age')\n",
    "plt.xticks(range(15, 23))\n",
    "\n",
    "# Adjust layout to add space between the plots\n",
    "plt.tight_layout(pad=3.0)  # Adjust pad for spacing\n",
    "\n",
    "# Display the plots\n",
    "plt.show()"
   ]
  },
  {
   "cell_type": "markdown",
   "metadata": {},
   "source": [
    "After conducting our analysis, we observed an interesting trend in alcohol consumption among students. Specifically, the data indicates that the alcohol consumption rate experiences a slight increase at the age of 17, followed by a decline. However, after the age of 20, there is a significant rise in consumption levels.\n",
    "\n",
    "It is important to note, though, that the distribution of our data reveals a limited number of samples for students aged 19 and older. This scarcity of data points means that the observed increases in alcohol consumption after 20 years of age cannot be confidently regarded as a valid trend. Therefore, while these insights provide an intriguing perspective, further investigation with a larger sample size will be necessary to draw more robust conclusions.\n",
    "\n"
   ]
  },
  {
   "cell_type": "code",
   "execution_count": null,
   "metadata": {},
   "outputs": [],
   "source": [
    "# Set the seaborn style\n",
    "sns.set(style=\"whitegrid\")\n",
    "\n",
    "# Create a figure for the plots\n",
    "plt.figure(figsize=(14, 6))\n",
    "\n",
    "# Boxplot for G1_math vs Walc (Weekend Alcohol Consumption)\n",
    "plt.subplot(1, 2, 1)\n",
    "sns.boxplot(x='Walc_math', y='G1_math', data=combined_data)\n",
    "plt.title('G1 in Math vs Weekend Alcohol Consumption (Walc)')\n",
    "plt.xlabel('Weekend Alcohol Consumption Level (Walc)')\n",
    "plt.ylabel('G1 in Math')\n",
    "\n",
    "# Boxplot for G1_math vs Dalc (Workday Alcohol Consumption)\n",
    "plt.subplot(1, 2, 2)\n",
    "sns.boxplot(x='Dalc_math', y='G1_math', data=combined_data)\n",
    "plt.title('G1 in Math vs Workday Alcohol Consumption (Dalc)')\n",
    "plt.xlabel('Workday Alcohol Consumption Level (Dalc)')\n",
    "plt.ylabel('G1 in Math')\n",
    "\n",
    "# Adjust layout\n",
    "plt.tight_layout()\n",
    "plt.show()\n",
    "\n",
    "# Create a new figure for Portuguese\n",
    "plt.figure(figsize=(14, 6))\n",
    "\n",
    "# Boxplot for G1_port vs Walc (Weekend Alcohol Consumption)\n",
    "plt.subplot(1, 2, 1)\n",
    "sns.boxplot(x='Walc_port', y='G1_port', data=combined_data)\n",
    "plt.title('G1 in Portuguese vs Weekend Alcohol Consumption (Walc)')\n",
    "plt.xlabel('Weekend Alcohol Consumption Level (Walc)')\n",
    "plt.ylabel('G1 in Portuguese')\n",
    "\n",
    "# Boxplot for G1_port vs Dalc (Workday Alcohol Consumption)\n",
    "plt.subplot(1, 2, 2)\n",
    "sns.boxplot(x='Dalc_port', y='G1_port', data=combined_data)\n",
    "plt.title('G1 in Portuguese vs Workday Alcohol Consumption (Dalc)')\n",
    "plt.xlabel('Workday Alcohol Consumption Level (Dalc)')\n",
    "plt.ylabel('G1 in Portuguese')\n",
    "\n",
    "# Adjust layout\n",
    "plt.tight_layout()\n",
    "plt.show()"
   ]
  },
  {
   "cell_type": "markdown",
   "metadata": {},
   "source": [
    "The analysis of the generated boxplots reveals a clear and concerning trend: as levels of alcohol consumption, both during the week (Dalc) and on weekends (Walc), increase, students' grades in Mathematics (G1math) and Portuguese (G1port) tend to decrease."
   ]
  },
  {
   "cell_type": "markdown",
   "metadata": {},
   "source": [
    "In particular, the relationship between alcohol consumption during the week and grades is especially notable. Students who reported higher levels of alcohol consumption on weekdays exhibited significantly lower grades in both subjects. This trend suggests that alcohol consumption may be associated with poorer academic performance, potentially due to factors such as decreased concentration, impaired memory, and reduced study time."
   ]
  },
  {
   "cell_type": "markdown",
   "metadata": {},
   "source": [
    "These results emphasize the importance of addressing alcohol consumption among students and considering interventions that could promote healthier habits, thereby contributing to improved academic performance. Education about the effects of alcohol and encouraging extracurricular activities that do not involve alcohol consumption may be valuable strategies for enhancing academic outcomes."
   ]
  },
  {
   "cell_type": "markdown",
   "metadata": {},
   "source": [
    "# Conclusions\n",
    "\n",
    "In this analysis, various characteristics of students were examined in relation to their influence on grades. Below are the main considerations:\n",
    "\n",
    "- The majority of the analyzed students are adolescents, with ages ranging from 15 to 18 years, although there are some older students.\n",
    "\n",
    "- It was observed that during the week, most students choose not to consume alcohol, with a small portion consuming only minimal amounts and an even smaller number reporting high consumption. However, this trend changes on weekends, where a significant proportion of students report some level of alcohol consumption, ranging from moderate to high.\n",
    "\n",
    "- The students' grades exhibit a distribution resembling a normal pattern, demonstrating a strong correlation between the grades obtained in different periods and the final grade.\n",
    "\n",
    "- Furthermore, the analysis revealed that male students tend to consume more alcohol than female students. It was also noted that with increasing age, alcohol consumption on weekends tends to rise, peaking during adolescence.\n",
    "\n",
    "- It was observed that some students tend to drop out of the course after receiving their grades from the first exam. Notably, there was a significant dropout rate in the Mathematics course at GP School compared to another school. In contrast, both schools exhibited a much lower and nearly equal dropout rate in the Portuguese subject. This discrepancy in dropout rates highlights the challenges faced by students in Mathematics, suggesting that additional support and resources may be necessary to enhance student retention in this subject. Addressing the factors contributing to these dropouts could be crucial for improving overall academic performance and ensuring that students remain engaged in their studies.\n",
    "\n",
    "- Finally, the age and gender of the students do not appear to have a significant impact on their grades. However, alcohol consumption demonstrated an inversely proportional relationship with grades: those who consume alcohol in larger quantities tend to have lower academic performance."
   ]
  }
 ],
 "metadata": {
  "kernelspec": {
   "display_name": "Python 3",
   "language": "python",
   "name": "python3"
  },
  "language_info": {
   "codemirror_mode": {
    "name": "ipython",
    "version": 3
   },
   "file_extension": ".py",
   "mimetype": "text/x-python",
   "name": "python",
   "nbconvert_exporter": "python",
   "pygments_lexer": "ipython3",
   "version": "3.12.1"
  }
 },
 "nbformat": 4,
 "nbformat_minor": 2
}
