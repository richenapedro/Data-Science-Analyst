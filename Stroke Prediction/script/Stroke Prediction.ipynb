{
 "cells": [
  {
   "cell_type": "markdown",
   "metadata": {},
   "source": [
    "# Student Alcohol Consumption Analysiss"
   ]
  },
  {
   "cell_type": "markdown",
   "metadata": {},
   "source": [
    "## Introduction\n",
    "This Jupyter Notebook aims to analyze the factors influencing alcohol consumption among secondary school students. By exploring the dataset, we will gain insights into how various social, educational, and personal factors affect students' alcohol consumption patterns and academic performance."
   ]
  },
  {
   "cell_type": "markdown",
   "metadata": {},
   "source": [
    "## Table of Contents\n",
    "1. [Package Installation](#package-installation)\n",
    "2. [Library Imports](#library-imports)\n",
    "3. [Data Loading](#data-loading)\n",
    "4. [Initial Data Exploration](#initial-data-exploration)\n",
    "5. [Data Visualization](#data-visualization)\n",
    "6. [Correlation Analysis](#correlation-analysis)\n",
    "7. [Data Preparation](#data-preparation)\n",
    "8. [Modeling](#modeling)\n",
    "9. [Model Evaluation](#model-evaluation)\n",
    "10. [Conclusion and Next Steps](#conclusion-and-next-steps)"
   ]
  },
  {
   "cell_type": "markdown",
   "metadata": {},
   "source": [
    "## Package Installation <a name=\"package-installation\"></a>\n",
    "In this cell, we will install the necessary Python packages required for our data analysis project. This step ensures that all the libraries needed for data manipulation, visualization, and machine learning are available in our environment. \n",
    "\n",
    "We will use the `pip` command to install the following libraries:\n",
    "\n",
    "- **NumPy**: A library for numerical computations and handling arrays.\n",
    "- **Pandas**: A powerful data manipulation and analysis library, particularly useful for working with structured data.\n",
    "- **Matplotlib**: A plotting library for creating static, animated, and interactive visualizations in Python.\n",
    "- **Seaborn**: A statistical data visualization library based on Matplotlib that provides a high-level interface for drawing attractive graphics.\n",
    "- **Scikit-learn**: A machine learning library that provides simple and efficient tools for data mining and data analysis."
   ]
  },
  {
   "cell_type": "code",
   "execution_count": 142,
   "metadata": {},
   "outputs": [
    {
     "name": "stdout",
     "output_type": "stream",
     "text": [
      "The following libraries are missing: scikit-learn\n",
      "Starting installation...\n",
      "Installing scikit-learn...\n",
      "Requirement already satisfied: scikit-learn in c:\\users\\richena\\appdata\\local\\programs\\python\\python312\\lib\\site-packages (1.3.2)\n",
      "Requirement already satisfied: numpy<2.0,>=1.17.3 in c:\\users\\richena\\appdata\\local\\programs\\python\\python312\\lib\\site-packages (from scikit-learn) (1.26.3)\n",
      "Requirement already satisfied: scipy>=1.5.0 in c:\\users\\richena\\appdata\\local\\programs\\python\\python312\\lib\\site-packages (from scikit-learn) (1.11.4)\n",
      "Requirement already satisfied: joblib>=1.1.1 in c:\\users\\richena\\appdata\\local\\programs\\python\\python312\\lib\\site-packages (from scikit-learn) (1.3.2)\n",
      "Requirement already satisfied: threadpoolctl>=2.0.0 in c:\\users\\richena\\appdata\\local\\programs\\python\\python312\\lib\\site-packages (from scikit-learn) (3.2.0)\n",
      "scikit-learn installed successfully.\n",
      "Error: scikit-learn was not installed correctly.\n",
      "Some libraries were not installed correctly.\n"
     ]
    }
   ],
   "source": [
    "# List of required libraries\n",
    "required_libraries = [\n",
    "    'numpy',\n",
    "    'pandas',\n",
    "    'matplotlib',\n",
    "    'seaborn',\n",
    "    'scikit-learn'\n",
    "]\n",
    "\n",
    "def install(package):\n",
    "    \"\"\"Install the package using pip in a Jupyter Notebook.\"\"\"\n",
    "    print(f\"Installing {package}...\")\n",
    "    # Use the Jupyter magic command for installation\n",
    "    get_ipython().system(f'pip install {package}')\n",
    "\n",
    "def check_libraries(libraries):\n",
    "    \"\"\"Check if the libraries are installed and install them if necessary.\"\"\"\n",
    "    missing_libraries = []\n",
    "\n",
    "    for library in libraries:\n",
    "        try:\n",
    "            __import__(library)\n",
    "        except ImportError:\n",
    "            missing_libraries.append(library)\n",
    "        except Exception as e:\n",
    "            # Captura outros erros que podem ocorrer durante a importação\n",
    "            print(f\"Error importing {library}: {e}\")\n",
    "            missing_libraries.append(library)\n",
    "\n",
    "    if missing_libraries:\n",
    "        print(f\"The following libraries are missing: {', '.join(missing_libraries)}\")\n",
    "        print(\"Starting installation...\")\n",
    "\n",
    "        installation_success = True  # Flag to track installation success\n",
    "\n",
    "        for library in missing_libraries:\n",
    "            try:\n",
    "                install(library)\n",
    "                print(f\"{library} installed successfully.\")\n",
    "            except Exception as e:\n",
    "                print(f\"Failed to install {library}: {e}\")\n",
    "                installation_success = False  # Mark as failed if there was an error\n",
    "\n",
    "        # Check again if the libraries were installed\n",
    "        for library in missing_libraries:\n",
    "            try:\n",
    "                __import__(library)\n",
    "            except ImportError:\n",
    "                print(f\"Error: {library} was not installed correctly.\")\n",
    "                installation_success = False  # Mark as failed if still missing\n",
    "\n",
    "        # Final message based on installation success\n",
    "        if installation_success:\n",
    "            print(\"All libraries were installed successfully.\")\n",
    "        else:\n",
    "            print(\"Some libraries were not installed correctly.\")\n",
    "    else:\n",
    "        print(\"All libraries are already installed.\")\n",
    "\n",
    "if __name__ == \"__main__\":\n",
    "    check_libraries(required_libraries)"
   ]
  },
  {
   "cell_type": "markdown",
   "metadata": {},
   "source": [
    "## Library Imports <a name=\"library-imports\"></a>\n",
    "In this cell, we will import all the necessary libraries that we will use throughout the analysis. This includes libraries for data manipulation, visualization, and machine learning."
   ]
  },
  {
   "cell_type": "code",
   "execution_count": 143,
   "metadata": {},
   "outputs": [],
   "source": [
    "import numpy as np\n",
    "import pandas as pd\n",
    "import matplotlib.pyplot as plt\n",
    "import seaborn as sns\n",
    "from sklearn.model_selection import train_test_split\n",
    "from sklearn.linear_model import LinearRegression"
   ]
  },
  {
   "cell_type": "markdown",
   "metadata": {},
   "source": [
    "## Data Loading <a name=\"data-loading\"></a>\n",
    "Here, we will load the dataset containing information about students' alcohol consumption and related factors. We will examine the structure of the data and check for any initial issues such as missing values."
   ]
  },
  {
   "cell_type": "code",
   "execution_count": 144,
   "metadata": {},
   "outputs": [],
   "source": [
    "# Paths to the CSV files\n",
    "path_data = '../data/amazon_product.csv'\n",
    "\n",
    "# Reading the CSV files\n",
    "df = pd.read_csv(path_data)"
   ]
  },
  {
   "cell_type": "code",
   "execution_count": 145,
   "metadata": {},
   "outputs": [
    {
     "name": "stdout",
     "output_type": "stream",
     "text": [
      "Mathematics Data:\n",
      "   Unnamed: 0        asin                                      product_title  \\\n",
      "0           0  B0BQ118F2T  Moto G Play 2023 3-Day Battery Unlocked Made f...   \n",
      "1           1  B0CTD47P22  SAMSUNG Galaxy A15 5G (SM-156M/DSN), 128GB 6GB...   \n",
      "2           2  B0CHH6X6H2  Total by Verizon | Samsung Galaxy A03s | Locke...   \n",
      "3           3  B0BZ9XNBRB  Google Pixel 7a - Unlocked Android Cell Phone ...   \n",
      "4           4  B0CN1QSH8Q  SAMSUNG Galaxy A15 5G A Series Cell Phone, 128...   \n",
      "\n",
      "  product_price product_original_price currency  product_star_rating  \\\n",
      "0        $99.99                $169.99      USD                  4.0   \n",
      "1       $149.74                $158.00      USD                  4.2   \n",
      "2        $49.88                    NaN      USD                  3.9   \n",
      "3       $335.00                $499.00      USD                  4.3   \n",
      "4       $199.99                    NaN      USD                  4.1   \n",
      "\n",
      "   product_num_ratings                           product_url  \\\n",
      "0                 2929  https://www.amazon.com/dp/B0BQ118F2T   \n",
      "1                  135  https://www.amazon.com/dp/B0CTD47P22   \n",
      "2                  205  https://www.amazon.com/dp/B0CHH6X6H2   \n",
      "3                 2248  https://www.amazon.com/dp/B0BZ9XNBRB   \n",
      "4                  423  https://www.amazon.com/dp/B0CN1QSH8Q   \n",
      "\n",
      "                                       product_photo  ...  is_best_seller  \\\n",
      "0  https://m.media-amazon.com/images/I/61K1Fz5Lxv...  ...           False   \n",
      "1  https://m.media-amazon.com/images/I/51QhB2CfqS...  ...           False   \n",
      "2  https://m.media-amazon.com/images/I/812woqv69C...  ...           False   \n",
      "3  https://m.media-amazon.com/images/I/61r7cCpQPl...  ...           False   \n",
      "4  https://m.media-amazon.com/images/I/61s0ZzwzSC...  ...           False   \n",
      "\n",
      "  is_amazon_choice  is_prime  climate_pledge_friendly  \\\n",
      "0            False      True                    False   \n",
      "1            False      True                    False   \n",
      "2            False      True                    False   \n",
      "3            False     False                    False   \n",
      "4            False      True                     True   \n",
      "\n",
      "                sales_volume  \\\n",
      "0   6K+ bought in past month   \n",
      "1   3K+ bought in past month   \n",
      "2   2K+ bought in past month   \n",
      "3  10K+ bought in past month   \n",
      "4   3K+ bought in past month   \n",
      "\n",
      "                                            delivery has_variations  \\\n",
      "0                           FREE delivery Tue, Aug 6           True   \n",
      "1  FREE delivery Wed, Aug 7 Only 7 left in stock ...          False   \n",
      "2                           FREE delivery Tue, Aug 6          False   \n",
      "3                            FREE delivery Aug 6 - 8           True   \n",
      "4                           FREE delivery Tue, Aug 6           True   \n",
      "\n",
      "                 product_availability  unit_price unit_count  \n",
      "0                                 NaN         NaN        NaN  \n",
      "1  Only 7 left in stock - order soon.         NaN        NaN  \n",
      "2                                 NaN         NaN        NaN  \n",
      "3                                 NaN         NaN        NaN  \n",
      "4                                 NaN         NaN        NaN  \n",
      "\n",
      "[5 rows x 22 columns]\n"
     ]
    }
   ],
   "source": [
    "# Display the first few rows of each dataset to verify the reading\n",
    "print(\"Mathematics Data:\")\n",
    "print(df.head())\n"
   ]
  },
  {
   "cell_type": "code",
   "execution_count": 146,
   "metadata": {},
   "outputs": [
    {
     "name": "stdout",
     "output_type": "stream",
     "text": [
      "The 'Unnamed: 0' column has no duplicates. Removing it from the DataFrame.\n"
     ]
    }
   ],
   "source": [
    "# Check for duplicate values in the 'Unnamed: 0' column\n",
    "# duplicated() returns a boolean Series indicating if each row is a duplicate\n",
    "# any() checks if there are any True values in the Series\n",
    "has_duplicates = df['Unnamed: 0'].duplicated().any()\n",
    "\n",
    "# If there are no duplicates, we assume this column is an ID column\n",
    "if not has_duplicates:\n",
    "    print(\"The 'Unnamed: 0' column has no duplicates. Removing it from the DataFrame.\")\n",
    "    # Drop the 'Unnamed: 0' column from the DataFrame\n",
    "    df.drop(columns=['Unnamed: 0'], inplace=True)\n",
    "else:\n",
    "    print(\"The 'Unnamed: 0' column has duplicates and will not be removed.\")"
   ]
  },
  {
   "cell_type": "code",
   "execution_count": 147,
   "metadata": {},
   "outputs": [
    {
     "name": "stdout",
     "output_type": "stream",
     "text": [
      "Updated DataFrame after removing irrelevant columns:\n",
      "                                       product_title product_price  \\\n",
      "0  Moto G Play 2023 3-Day Battery Unlocked Made f...        $99.99   \n",
      "1  SAMSUNG Galaxy A15 5G (SM-156M/DSN), 128GB 6GB...       $149.74   \n",
      "2  Total by Verizon | Samsung Galaxy A03s | Locke...        $49.88   \n",
      "3  Google Pixel 7a - Unlocked Android Cell Phone ...       $335.00   \n",
      "4  SAMSUNG Galaxy A15 5G A Series Cell Phone, 128...       $199.99   \n",
      "\n",
      "  product_original_price  product_star_rating  product_num_ratings  \\\n",
      "0                $169.99                  4.0                 2929   \n",
      "1                $158.00                  4.2                  135   \n",
      "2                    NaN                  3.9                  205   \n",
      "3                $499.00                  4.3                 2248   \n",
      "4                    NaN                  4.1                  423   \n",
      "\n",
      "   product_num_offers product_minimum_offer_price  is_best_seller  \\\n",
      "0                  10                      $64.89           False   \n",
      "1                   8                     $145.87           False   \n",
      "2                   1                      $49.88           False   \n",
      "3                  30                     $289.99           False   \n",
      "4                   2                     $150.09           False   \n",
      "\n",
      "   is_amazon_choice  is_prime  climate_pledge_friendly  \\\n",
      "0             False      True                    False   \n",
      "1             False      True                    False   \n",
      "2             False      True                    False   \n",
      "3             False     False                    False   \n",
      "4             False      True                     True   \n",
      "\n",
      "                sales_volume  \\\n",
      "0   6K+ bought in past month   \n",
      "1   3K+ bought in past month   \n",
      "2   2K+ bought in past month   \n",
      "3  10K+ bought in past month   \n",
      "4   3K+ bought in past month   \n",
      "\n",
      "                                            delivery  has_variations  \\\n",
      "0                           FREE delivery Tue, Aug 6            True   \n",
      "1  FREE delivery Wed, Aug 7 Only 7 left in stock ...           False   \n",
      "2                           FREE delivery Tue, Aug 6           False   \n",
      "3                            FREE delivery Aug 6 - 8            True   \n",
      "4                           FREE delivery Tue, Aug 6            True   \n",
      "\n",
      "                 product_availability unit_price  unit_count  \n",
      "0                                 NaN        NaN         NaN  \n",
      "1  Only 7 left in stock - order soon.        NaN         NaN  \n",
      "2                                 NaN        NaN         NaN  \n",
      "3                                 NaN        NaN         NaN  \n",
      "4                                 NaN        NaN         NaN  \n"
     ]
    }
   ],
   "source": [
    "# List of columns to be removed as they are not relevant for the analysis\n",
    "columns_to_remove = ['product_url', 'product_photo', 'asin','currency']\n",
    "\n",
    "# Remove the specified columns from the DataFrame\n",
    "df.drop(columns=columns_to_remove, inplace=True)\n",
    "\n",
    "# Display the DataFrame after removing the irrelevant columns\n",
    "print(\"Updated DataFrame after removing irrelevant columns:\")\n",
    "print(df.head(5))  # Displays the first 5 rows of the remaining columns"
   ]
  },
  {
   "cell_type": "code",
   "execution_count": 148,
   "metadata": {},
   "outputs": [
    {
     "name": "stdout",
     "output_type": "stream",
     "text": [
      "\n",
      "Shape of Combined Data: (64, 17)\n"
     ]
    }
   ],
   "source": [
    "# Using shape to check the dimensions of the combined DataFrame\n",
    "print(\"\\nShape of Combined Data:\", df.shape)"
   ]
  },
  {
   "cell_type": "markdown",
   "metadata": {},
   "source": [
    "## Initial Data Exploration <a name=\"initial-data-exploration\"></a>\n",
    "In this section, we will perform an exploratory data analysis (EDA) to understand the dataset better. We will look at the data types, summary statistics, and any missing values, which will help us determine the next steps for cleaning and preparing the data."
   ]
  },
  {
   "cell_type": "code",
   "execution_count": 149,
   "metadata": {},
   "outputs": [
    {
     "name": "stdout",
     "output_type": "stream",
     "text": [
      "Missing Values in Each Column:\n",
      " product_title                   0\n",
      "product_price                   0\n",
      "product_original_price         37\n",
      "product_star_rating            10\n",
      "product_num_ratings             0\n",
      "product_num_offers              0\n",
      "product_minimum_offer_price     0\n",
      "is_best_seller                  0\n",
      "is_amazon_choice                0\n",
      "is_prime                        0\n",
      "climate_pledge_friendly         0\n",
      "sales_volume                    3\n",
      "delivery                        1\n",
      "has_variations                  0\n",
      "product_availability           63\n",
      "unit_price                     59\n",
      "unit_count                     59\n",
      "dtype: int64\n"
     ]
    }
   ],
   "source": [
    "# 1. Check for missing values\n",
    "missing_values = df.isnull().sum()\n",
    "print(\"Missing Values in Each Column:\\n\", missing_values)"
   ]
  },
  {
   "cell_type": "code",
   "execution_count": 150,
   "metadata": {},
   "outputs": [
    {
     "name": "stdout",
     "output_type": "stream",
     "text": [
      "The following columns were removed from the DataFrame: ['product_original_price', 'product_availability', 'unit_price', 'unit_count'].\n",
      "Observations with missing values in 'delivery' and 'sales_volume' were also removed.\n",
      "Shape of the DataFrame after these modifications: (60, 13).\n"
     ]
    }
   ],
   "source": [
    "# List of columns to be removed based on the analysis\n",
    "columns_to_remove = ['product_original_price', 'product_availability', 'unit_price', 'unit_count']\n",
    "\n",
    "# Remove the specified columns from the DataFrame\n",
    "df.drop(columns=columns_to_remove, inplace=True)\n",
    "\n",
    "# Identify and remove observations with missing values in 'delivery' and 'sales_volume'\n",
    "df = df.dropna(subset=['delivery', 'sales_volume'])\n",
    "\n",
    "# Display the shape of the DataFrame after all modifications\n",
    "print(f\"The following columns were removed from the DataFrame: {columns_to_remove}.\")\n",
    "print(\"Observations with missing values in 'delivery' and 'sales_volume' were also removed.\")\n",
    "print(f\"Shape of the DataFrame after these modifications: {df.shape}.\")"
   ]
  },
  {
   "cell_type": "code",
   "execution_count": 151,
   "metadata": {},
   "outputs": [
    {
     "name": "stdout",
     "output_type": "stream",
     "text": [
      "Data Types of Each Column:\n",
      "product_title                   object\n",
      "product_price                   object\n",
      "product_star_rating            float64\n",
      "product_num_ratings              int64\n",
      "product_num_offers               int64\n",
      "product_minimum_offer_price     object\n",
      "is_best_seller                    bool\n",
      "is_amazon_choice                  bool\n",
      "is_prime                          bool\n",
      "climate_pledge_friendly           bool\n",
      "sales_volume                    object\n",
      "delivery                        object\n",
      "has_variations                    bool\n",
      "dtype: object\n",
      "\n",
      "Detailed Information about the DataFrame:\n",
      "<class 'pandas.core.frame.DataFrame'>\n",
      "Index: 60 entries, 0 to 63\n",
      "Data columns (total 13 columns):\n",
      " #   Column                       Non-Null Count  Dtype  \n",
      "---  ------                       --------------  -----  \n",
      " 0   product_title                60 non-null     object \n",
      " 1   product_price                60 non-null     object \n",
      " 2   product_star_rating          53 non-null     float64\n",
      " 3   product_num_ratings          60 non-null     int64  \n",
      " 4   product_num_offers           60 non-null     int64  \n",
      " 5   product_minimum_offer_price  60 non-null     object \n",
      " 6   is_best_seller               60 non-null     bool   \n",
      " 7   is_amazon_choice             60 non-null     bool   \n",
      " 8   is_prime                     60 non-null     bool   \n",
      " 9   climate_pledge_friendly      60 non-null     bool   \n",
      " 10  sales_volume                 60 non-null     object \n",
      " 11  delivery                     60 non-null     object \n",
      " 12  has_variations               60 non-null     bool   \n",
      "dtypes: bool(5), float64(1), int64(2), object(5)\n",
      "memory usage: 4.5+ KB\n",
      "None\n"
     ]
    }
   ],
   "source": [
    "# Check the data types of each column in the DataFrame\n",
    "print(\"Data Types of Each Column:\")\n",
    "print(df.dtypes)\n",
    "\n",
    "# For a more organized view, you can use the .info() method\n",
    "print(\"\\nDetailed Information about the DataFrame:\")\n",
    "print(df.info())"
   ]
  },
  {
   "cell_type": "code",
   "execution_count": 152,
   "metadata": {},
   "outputs": [
    {
     "name": "stdout",
     "output_type": "stream",
     "text": [
      "Data Types after Conversion:\n",
      "product_title                  category\n",
      "product_price                   float64\n",
      "product_star_rating             float64\n",
      "product_num_ratings               int64\n",
      "product_num_offers                int64\n",
      "product_minimum_offer_price     float64\n",
      "is_best_seller                 category\n",
      "is_amazon_choice               category\n",
      "is_prime                       category\n",
      "climate_pledge_friendly        category\n",
      "sales_volume                   category\n",
      "delivery                       category\n",
      "has_variations                 category\n",
      "dtype: object\n",
      "\n",
      "Missing Values in Each Column:\n",
      "product_title                  0\n",
      "product_price                  0\n",
      "product_star_rating            0\n",
      "product_num_ratings            0\n",
      "product_num_offers             0\n",
      "product_minimum_offer_price    0\n",
      "is_best_seller                 0\n",
      "is_amazon_choice               0\n",
      "is_prime                       0\n",
      "climate_pledge_friendly        0\n",
      "sales_volume                   0\n",
      "delivery                       0\n",
      "has_variations                 0\n",
      "dtype: int64\n"
     ]
    }
   ],
   "source": [
    "# Convert columns to numeric types\n",
    "df['product_price'] = pd.to_numeric(df['product_price'].str.replace(r'[^\\d.]', '', regex=True), errors='coerce')\n",
    "df['product_minimum_offer_price'] = pd.to_numeric(df['product_minimum_offer_price'].str.replace(r'[^\\d.]', '', regex=True), errors='coerce')\n",
    "\n",
    "# Convert categorical columns\n",
    "df['delivery'] = df['delivery'].astype('category')\n",
    "df['product_title'] = df['product_title'].astype('category')\n",
    "df['sales_volume'] = df['sales_volume'].astype('category')\n",
    "\n",
    "df['is_best_seller'] = df['is_best_seller'].astype('category')\n",
    "df['is_amazon_choice'] = df['is_amazon_choice'].astype('category')\n",
    "df['is_prime'] = df['is_prime'].astype('category')\n",
    "df['climate_pledge_friendly'] = df['climate_pledge_friendly'].astype('category')\n",
    "df['has_variations'] = df['has_variations'].astype('category')\n",
    "\n",
    "\n",
    "# Identify and remove observations with missing values in 'product_star_rating'\n",
    "df = df.dropna(subset=['product_star_rating'])\n",
    "\n",
    "# Check the data types after conversion\n",
    "print(\"Data Types after Conversion:\")\n",
    "print(df.dtypes)\n",
    "\n",
    "# If necessary, you can also check the amount of missing values in the columns\n",
    "print(\"\\nMissing Values in Each Column:\")\n",
    "print(df.isnull().sum())"
   ]
  },
  {
   "cell_type": "code",
   "execution_count": 153,
   "metadata": {},
   "outputs": [
    {
     "name": "stdout",
     "output_type": "stream",
     "text": [
      "\n",
      "Summary Statistics:\n",
      "        product_price  product_star_rating  product_num_ratings  \\\n",
      "count      53.000000            53.000000         5.300000e+01   \n",
      "mean       62.502830             4.235849         6.286915e+04   \n",
      "std        99.536797             0.559909         1.715720e+05   \n",
      "min         0.000000             1.800000         8.000000e+00   \n",
      "25%         0.000000             4.100000         2.050000e+02   \n",
      "50%        22.000000             4.400000         2.317000e+03   \n",
      "75%        70.610000             4.600000         2.668500e+04   \n",
      "max       499.000000             4.800000         1.015448e+06   \n",
      "\n",
      "       product_num_offers  product_minimum_offer_price  \n",
      "count           53.000000                    53.000000  \n",
      "mean             5.660377                    53.843774  \n",
      "std              8.750700                    82.944322  \n",
      "min              1.000000                     0.000000  \n",
      "25%              1.000000                     0.000000  \n",
      "50%              1.000000                    19.850000  \n",
      "75%              4.000000                    64.890000  \n",
      "max             34.000000                   409.990000  \n"
     ]
    }
   ],
   "source": [
    "# 4. Summary statistics for numerical columns\n",
    "summary_statistics = df.describe()\n",
    "print(\"\\nSummary Statistics:\\n\", summary_statistics)"
   ]
  },
  {
   "cell_type": "code",
   "execution_count": 154,
   "metadata": {},
   "outputs": [
    {
     "name": "stdout",
     "output_type": "stream",
     "text": [
      "\n",
      "Unique Values in 'is_best_seller':\n",
      " is_best_seller\n",
      "False    33\n",
      "True     20\n",
      "Name: count, dtype: int64\n",
      "\n",
      "Unique Values in 'is_amazon_choice':\n",
      " is_amazon_choice\n",
      "False    51\n",
      "True      2\n",
      "Name: count, dtype: int64\n",
      "\n",
      "Unique Values in 'is_prime':\n",
      " is_prime\n",
      "True     33\n",
      "False    20\n",
      "Name: count, dtype: int64\n",
      "\n",
      "Unique Values in 'climate_pledge_friendly':\n",
      " climate_pledge_friendly\n",
      "False    50\n",
      "True      3\n",
      "Name: count, dtype: int64\n",
      "\n",
      "Unique Values in 'sales_volume':\n",
      " sales_volume\n",
      "Other formats:                6\n",
      "10K+ bought in past month     6\n",
      "2K+ bought in past month      5\n",
      "3K+ bought in past month      5\n",
      "List:                         3\n",
      "500+ bought in past month     2\n",
      "1K+ bought in past month      2\n",
      "40K+ bought in past month     2\n",
      "Jul 7, 2023                   1\n",
      "Jul 8, 2015                   1\n",
      "Jun 24, 2021                  1\n",
      "Jun 26, 2024                  1\n",
      "100K+ bought in past month    1\n",
      "Mar 20, 2024                  1\n",
      "May 30, 2024                  1\n",
      "Jul 16, 2015                  1\n",
      "Oct 11, 2019                  1\n",
      "Oct 27, 2011                  1\n",
      "Jul 19, 2024                  1\n",
      "Aug 13, 2024                  1\n",
      "Jul 10, 2024                  1\n",
      "80K+ bought in past month     1\n",
      "700+ bought in past month     1\n",
      "6K+ bought in past month      1\n",
      "60K+ bought in past month     1\n",
      "5K+ bought in past month      1\n",
      "50+ bought in past month      1\n",
      "30K+ bought in past month     1\n",
      "200+ bought in past month     1\n",
      "Print List Price:             1\n",
      "Digital List Price:           0\n",
      "900+ bought in past month     0\n",
      "Other format:                 0\n",
      "Name: count, dtype: int64\n",
      "\n",
      "Unique Values in 'delivery':\n",
      " delivery\n",
      "Available instantly on compatible devices                                                                                                        10\n",
      "FREE delivery Tue, Aug 6                                                                                                                          9\n",
      "Available instantly                                                                                                                               7\n",
      "FREE delivery Tue, Aug 6 on $35 of items shipped by Amazon                                                                                        7\n",
      "FREE delivery Tue, Aug 6 Or fastest delivery Mon, Aug 5                                                                                           6\n",
      "FREE delivery Tue, Aug 6 on $35 of items shipped by AmazonOr fastest delivery Mon, Aug 5                                                          3\n",
      "FREE delivery Thu, Aug 8 on $35 of items shipped by Amazon                                                                                        2\n",
      "FREE delivery Wed, Aug 7                                                                                                                          2\n",
      "FREE deliveryThis item will be released on August 13, 2024.                                                                                       1\n",
      "FREE delivery Mon, Oct 28 on $35 of items shipped by AmazonOr fastest delivery Tue, Oct 22 This title will be released on October 22, 2024.       1\n",
      "FREE delivery Aug 6 - 8                                                                                                                           1\n",
      "FREE delivery                                                                                                                                     1\n",
      "FREE delivery Mon, Oct 21 Or fastest delivery Tue, Oct 15 This title will be released on October 15, 2024.                                        1\n",
      "FREE delivery Wed, Aug 7 Only 7 left in stock - order soon.                                                                                       1\n",
      "FREE delivery Wed, Aug 7 on $35 of items shipped by Amazon                                                                                        1\n",
      "FREE delivery Mon, Nov 18 on $35 of items shipped by AmazonOr fastest delivery Tue, Nov 12 This title will be released on November 12, 2024.      0\n",
      "FREE delivery on $35 shipped by Amazon.This title will be released on August 16, 2024.                                                            0\n",
      "FREE delivery on $35 shipped by Amazon.This title will be released on January 21, 2025.                                                           0\n",
      "FREE delivery Tue, Sep 24 Or fastest delivery Fri, Sep 20 This title will be released on September 20, 2024.                                      0\n",
      "FREE delivery Tue, Sep 24 on $35 of items shipped by AmazonOr fastest delivery Fri, Sep 20 This title will be released on September 20, 2024.     0\n",
      "FREE delivery Mon, Oct 28 Or fastest delivery Tue, Oct 22 This title will be released on October 22, 2024.                                        0\n",
      "This title will be released on August 28, 2024.                                                                                                   0\n",
      "Name: count, dtype: int64\n",
      "\n",
      "Unique Values in 'has_variations':\n",
      " has_variations\n",
      "False    44\n",
      "True      9\n",
      "Name: count, dtype: int64\n"
     ]
    }
   ],
   "source": [
    "# 5. Check unique values in categorical columns, excluding 'product_title'\n",
    "for column in df.select_dtypes(include=['category']).columns:\n",
    "    if column != 'product_title':  # Ignore the 'product_title' column\n",
    "        print(f\"\\nUnique Values in '{column}':\\n\", df[column].value_counts())"
   ]
  },
  {
   "cell_type": "code",
   "execution_count": 155,
   "metadata": {},
   "outputs": [
    {
     "name": "stdout",
     "output_type": "stream",
     "text": [
      "\n",
      "Unique Values in 'sales_volume_category':\n",
      " sales_volume_category\n",
      "High Sales      26\n",
      "Low Sales       25\n",
      "Medium Sales     2\n",
      "Name: count, dtype: int64\n",
      "\n",
      "Unique Values in 'delivery_simple':\n",
      " delivery_simple\n",
      "Free    36\n",
      "Paid    17\n",
      "Name: count, dtype: int64\n"
     ]
    }
   ],
   "source": [
    "# Example of categorizing sales_volume\n",
    "def categorize_sales_volume(value):\n",
    "    if 'K+' in value:\n",
    "        return 'High Sales'\n",
    "    elif '100+' in value or '500+' in value:\n",
    "        return 'Medium Sales'\n",
    "    else:\n",
    "        return 'Low Sales'\n",
    "\n",
    "# Apply the categorization function\n",
    "df['sales_volume_category'] = df['sales_volume'].apply(categorize_sales_volume)\n",
    "\n",
    "# Simplify the delivery column\n",
    "df['delivery_simple'] = df['delivery'].apply(lambda x: 'Free' if 'FREE' in x else 'Paid')\n",
    "\n",
    "# Convert the new columns to 'category' type\n",
    "df['sales_volume_category'] = df['sales_volume_category'].astype('category')\n",
    "df['delivery_simple'] = df['delivery_simple'].astype('category')\n",
    "\n",
    "# Drop old columns\n",
    "df.drop(columns=['delivery','sales_volume'],inplace=True)\n",
    "\n",
    "# Print the unique values of the new columns\n",
    "for column in df[['sales_volume_category', 'delivery_simple']].columns:\n",
    "    print(f\"\\nUnique Values in '{column}':\\n\", df[column].value_counts())"
   ]
  },
  {
   "cell_type": "code",
   "execution_count": 159,
   "metadata": {},
   "outputs": [
    {
     "name": "stdout",
     "output_type": "stream",
     "text": [
      "Variables with a correlation of at least 0.30 with product_price:\n",
      "product_price              1.000000\n",
      "is_best_seller            -0.317069\n",
      "climate_pledge_friendly    0.349860\n",
      "has_variations             0.663179\n",
      "Name: product_price, dtype: float64\n"
     ]
    },
    {
     "data": {
      "image/png": "[encoded data removed]",
      "text/plain": [
       "<Figure size 1000x800 with 2 Axes>"
      ]
     },
     "metadata": {},
     "output_type": "display_data"
    }
   ],
   "source": [
    "# First, let's select the numeric variables and remove product_minimum_offer_price due to high correlation with product_price\n",
    "numeric_columns = ['product_price', 'product_star_rating', 'product_num_ratings',\n",
    "                   'product_num_offers']\n",
    "\n",
    "# Convert categorical columns to integers\n",
    "df['is_best_seller'] = df['is_best_seller'].astype(int)\n",
    "df['is_amazon_choice'] = df['is_amazon_choice'].astype(int)\n",
    "df['is_prime'] = df['is_prime'].astype(int)\n",
    "df['climate_pledge_friendly'] = df['climate_pledge_friendly'].astype(int)\n",
    "df['has_variations'] = df['has_variations'].astype(int)\n",
    "\n",
    "\n",
    "# Add categorical columns to the numeric columns list\n",
    "numeric_columns += ['is_best_seller', 'is_amazon_choice', 'is_prime', \n",
    "                    'climate_pledge_friendly', 'has_variations']\n",
    "\n",
    "# Calculate the correlation matrix\n",
    "correlation_matrix = df[numeric_columns].corr()\n",
    "\n",
    "# Filter variables that have a correlation of at least 0.30 with product_price\n",
    "correlation_with_price = correlation_matrix['product_price']\n",
    "relevant_features = correlation_with_price[correlation_with_price.abs() >= 0.30]\n",
    "\n",
    "print(\"Variables with a correlation of at least 0.30 with product_price:\")\n",
    "print(relevant_features)\n",
    "\n",
    "# If desired, visualize the correlation matrix only with the relevant variables\n",
    "relevant_columns = relevant_features.index.tolist()\n",
    "plt.figure(figsize=(10, 8))\n",
    "sns.heatmap(correlation_matrix.loc[relevant_columns, relevant_columns], annot=True, fmt=\".2f\", cmap='coolwarm', square=True)\n",
    "plt.title('Filtered Correlation Matrix (|Correlation| >= 0.30 with Product Price)')\n",
    "plt.show()"
   ]
  },
  {
   "cell_type": "markdown",
   "metadata": {},
   "source": [
    "## Correlation Analysis <a name=\"correlation-analysis\"></a>\n",
    "We will analyze the correlations between numerical features in the dataset. This will help us identify which factors are most strongly related to alcohol consumption and academic performance.\n"
   ]
  },
  {
   "cell_type": "markdown",
   "metadata": {},
   "source": [
    "## Data Preparation <a name=\"data-preparation\"></a>\n",
    "Before modeling, we need to prepare the data. This includes handling missing values, encoding categorical variables, and splitting the dataset into training and testing sets."
   ]
  },
  {
   "cell_type": "markdown",
   "metadata": {},
   "source": [
    "## Modeling <a name=\"modeling\"></a>\n",
    "In this section, we will build machine learning models to predict students' academic performance based on their alcohol consumption and other features. We will choose appropriate algorithms and fit them to our training data."
   ]
  },
  {
   "cell_type": "markdown",
   "metadata": {},
   "source": [
    "## Model Evaluation <a name=\"model-evaluation\"></a>\n",
    "After building our models, we will evaluate their performance using various metrics. We will compare the predictions against the actual outcomes to determine how well our models are performing."
   ]
  },
  {
   "cell_type": "markdown",
   "metadata": {},
   "source": [
    "## Conclusion and Next Steps <a name=\"conclusion-and-next-steps\"></a>\n",
    "In the final section, we will summarize our findings from the analysis and discuss potential next steps. This may include further analysis, model improvements, or recommendations for educators based on the insights gained from the data."
   ]
  }
 ],
 "metadata": {
  "kernelspec": {
   "display_name": "Python 3",
   "language": "python",
   "name": "python3"
  },
  "language_info": {
   "codemirror_mode": {
    "name": "ipython",
    "version": 3
   },
   "file_extension": ".py",
   "mimetype": "text/x-python",
   "name": "python",
   "nbconvert_exporter": "python",
   "pygments_lexer": "ipython3",
   "version": "3.12.3"
  }
 },
 "nbformat": 4,
 "nbformat_minor": 2
}
