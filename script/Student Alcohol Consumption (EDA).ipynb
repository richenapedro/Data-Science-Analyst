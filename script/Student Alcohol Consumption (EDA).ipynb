{
 "cells": [
  {
   "cell_type": "code",
   "execution_count": 8,
   "metadata": {},
   "outputs": [
    {
     "name": "stdout",
     "output_type": "stream",
     "text": [
      "The following libraries are missing: Pillow\n",
      "Starting installation...\n",
      "Installing Pillow...\n",
      "Requirement already satisfied: Pillow in c:\\users\\richena\\appdata\\local\\programs\\python\\python312\\lib\\site-packages (10.2.0)\n",
      "Pillow installed successfully.\n",
      "Error: Pillow was not installed correctly.\n",
      "Some libraries were not installed correctly.\n"
     ]
    }
   ],
   "source": [
    "# List of required libraries\n",
    "required_libraries = [\n",
    "    'numpy',\n",
    "    'pandas',\n",
    "    'matplotlib',\n",
    "    'seaborn',\n",
    "    'scikit-learn'\n",
    "]\n",
    "\n",
    "def install(package):\n",
    "    \"\"\"Install the package using pip in a Jupyter Notebook.\"\"\"\n",
    "    print(f\"Installing {package}...\")\n",
    "    # Use the Jupyter magic command for installation\n",
    "    get_ipython().system(f'pip install {package}')\n",
    "\n",
    "def check_libraries(libraries):\n",
    "    \"\"\"Check if the libraries are installed and install them if necessary.\"\"\"\n",
    "    missing_libraries = []\n",
    "\n",
    "    for library in libraries:\n",
    "        try:\n",
    "            __import__(library)\n",
    "        except ImportError:\n",
    "            missing_libraries.append(library)\n",
    "        except Exception as e:\n",
    "            # Captura outros erros que podem ocorrer durante a importação\n",
    "            print(f\"Error importing {library}: {e}\")\n",
    "            missing_libraries.append(library)\n",
    "\n",
    "    if missing_libraries:\n",
    "        print(f\"The following libraries are missing: {', '.join(missing_libraries)}\")\n",
    "        print(\"Starting installation...\")\n",
    "\n",
    "        installation_success = True  # Flag to track installation success\n",
    "\n",
    "        for library in missing_libraries:\n",
    "            try:\n",
    "                install(library)\n",
    "                print(f\"{library} installed successfully.\")\n",
    "            except Exception as e:\n",
    "                print(f\"Failed to install {library}: {e}\")\n",
    "                installation_success = False  # Mark as failed if there was an error\n",
    "\n",
    "        # Check again if the libraries were installed\n",
    "        for library in missing_libraries:\n",
    "            try:\n",
    "                __import__(library)\n",
    "            except ImportError:\n",
    "                print(f\"Error: {library} was not installed correctly.\")\n",
    "                installation_success = False  # Mark as failed if still missing\n",
    "\n",
    "        # Final message based on installation success\n",
    "        if installation_success:\n",
    "            print(\"All libraries were installed successfully.\")\n",
    "        else:\n",
    "            print(\"Some libraries were not installed correctly.\")\n",
    "    else:\n",
    "        print(\"All libraries are already installed.\")\n",
    "\n",
    "if __name__ == \"__main__\":\n",
    "    check_libraries(required_libraries)"
   ]
  }
 ],
 "metadata": {
  "kernelspec": {
   "display_name": "Python 3",
   "language": "python",
   "name": "python3"
  },
  "language_info": {
   "codemirror_mode": {
    "name": "ipython",
    "version": 3
   },
   "file_extension": ".py",
   "mimetype": "text/x-python",
   "name": "python",
   "nbconvert_exporter": "python",
   "pygments_lexer": "ipython3",
   "version": "3.12.1"
  }
 },
 "nbformat": 4,
 "nbformat_minor": 2
}
