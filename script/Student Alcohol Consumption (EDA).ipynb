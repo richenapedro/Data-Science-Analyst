{
 "cells": [
  {
   "cell_type": "markdown",
   "metadata": {},
   "source": [
    "# Student Alcohol Consumption Analysiss"
   ]
  },
  {
   "cell_type": "markdown",
   "metadata": {},
   "source": [
    "## Introduction\n",
    "This Jupyter Notebook aims to analyze the factors influencing alcohol consumption among secondary school students. By exploring the dataset, we will gain insights into how various social, educational, and personal factors affect students' alcohol consumption patterns and academic performance."
   ]
  },
  {
   "cell_type": "markdown",
   "metadata": {},
   "source": [
    "## Table of Contents\n",
    "1. [Package Installation](#package-installation)\n",
    "2. [Library Imports](#library-imports)\n",
    "3. [Data Loading](#data-loading)\n",
    "4. [Initial Data Exploration](#initial-data-exploration)\n",
    "5. [Data Visualization](#data-visualization)\n",
    "6. [Correlation Analysis](#correlation-analysis)\n",
    "7. [Data Preparation](#data-preparation)\n",
    "8. [Modeling](#modeling)\n",
    "9. [Model Evaluation](#model-evaluation)\n",
    "10. [Conclusion and Next Steps](#conclusion-and-next-steps)"
   ]
  },
  {
   "cell_type": "markdown",
   "metadata": {},
   "source": [
    "## Package Installation <a name=\"package-installation\"></a>\n",
    "In this cell, we will install the necessary Python packages required for our data analysis project. This step ensures that all the libraries needed for data manipulation, visualization, and machine learning are available in our environment. \n",
    "\n",
    "We will use the `pip` command to install the following libraries:\n",
    "\n",
    "- **NumPy**: A library for numerical computations and handling arrays.\n",
    "- **Pandas**: A powerful data manipulation and analysis library, particularly useful for working with structured data.\n",
    "- **Matplotlib**: A plotting library for creating static, animated, and interactive visualizations in Python.\n",
    "- **Seaborn**: A statistical data visualization library based on Matplotlib that provides a high-level interface for drawing attractive graphics.\n",
    "- **Scikit-learn**: A machine learning library that provides simple and efficient tools for data mining and data analysis."
   ]
  },
  {
   "cell_type": "code",
   "execution_count": null,
   "metadata": {},
   "outputs": [],
   "source": [
    "# List of required libraries\n",
    "required_libraries = [\n",
    "    'numpy',\n",
    "    'pandas',\n",
    "    'matplotlib',\n",
    "    'seaborn',\n",
    "    'scikit-learn'\n",
    "]\n",
    "\n",
    "def install(package):\n",
    "    \"\"\"Install the package using pip in a Jupyter Notebook.\"\"\"\n",
    "    print(f\"Installing {package}...\")\n",
    "    # Use the Jupyter magic command for installation\n",
    "    get_ipython().system(f'pip install {package}')\n",
    "\n",
    "def check_libraries(libraries):\n",
    "    \"\"\"Check if the libraries are installed and install them if necessary.\"\"\"\n",
    "    missing_libraries = []\n",
    "\n",
    "    for library in libraries:\n",
    "        try:\n",
    "            __import__(library)\n",
    "        except ImportError:\n",
    "            missing_libraries.append(library)\n",
    "        except Exception as e:\n",
    "            # Captura outros erros que podem ocorrer durante a importação\n",
    "            print(f\"Error importing {library}: {e}\")\n",
    "            missing_libraries.append(library)\n",
    "\n",
    "    if missing_libraries:\n",
    "        print(f\"The following libraries are missing: {', '.join(missing_libraries)}\")\n",
    "        print(\"Starting installation...\")\n",
    "\n",
    "        installation_success = True  # Flag to track installation success\n",
    "\n",
    "        for library in missing_libraries:\n",
    "            try:\n",
    "                install(library)\n",
    "                print(f\"{library} installed successfully.\")\n",
    "            except Exception as e:\n",
    "                print(f\"Failed to install {library}: {e}\")\n",
    "                installation_success = False  # Mark as failed if there was an error\n",
    "\n",
    "        # Check again if the libraries were installed\n",
    "        for library in missing_libraries:\n",
    "            try:\n",
    "                __import__(library)\n",
    "            except ImportError:\n",
    "                print(f\"Error: {library} was not installed correctly.\")\n",
    "                installation_success = False  # Mark as failed if still missing\n",
    "\n",
    "        # Final message based on installation success\n",
    "        if installation_success:\n",
    "            print(\"All libraries were installed successfully.\")\n",
    "        else:\n",
    "            print(\"Some libraries were not installed correctly.\")\n",
    "    else:\n",
    "        print(\"All libraries are already installed.\")\n",
    "\n",
    "if __name__ == \"__main__\":\n",
    "    check_libraries(required_libraries)"
   ]
  },
  {
   "cell_type": "markdown",
   "metadata": {},
   "source": [
    "## Library Imports <a name=\"library-imports\"></a>\n",
    "In this cell, we will import all the necessary libraries that we will use throughout the analysis. This includes libraries for data manipulation, visualization, and machine learning."
   ]
  },
  {
   "cell_type": "code",
   "execution_count": null,
   "metadata": {},
   "outputs": [],
   "source": [
    "import numpy as np\n",
    "import pandas as pd\n",
    "import matplotlib.pyplot as plt\n",
    "import seaborn as sns\n",
    "from sklearn.model_selection import train_test_split\n",
    "from sklearn.linear_model import LinearRegression"
   ]
  }
 ],
 "metadata": {
  "kernelspec": {
   "display_name": "Python 3",
   "language": "python",
   "name": "python3"
  },
  "language_info": {
   "codemirror_mode": {
    "name": "ipython",
    "version": 3
   },
   "file_extension": ".py",
   "mimetype": "text/x-python",
   "name": "python",
   "nbconvert_exporter": "python",
   "pygments_lexer": "ipython3",
   "version": "3.12.1"
  }
 },
 "nbformat": 4,
 "nbformat_minor": 2
}
